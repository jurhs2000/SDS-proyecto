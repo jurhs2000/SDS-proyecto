{
 "cells": [
  {
   "attachments": {},
   "cell_type": "markdown",
   "metadata": {},
   "source": [
    "## Universidad del Valle de Guatemala\n",
    "## CC3094 - Security Data Science - Sección 10\n",
    "## Proyecto Final - DDoS Detection\n",
    "## Integrantes:\n",
    "## - 19402 - Julio Herrera\n",
    "## - 19270 - Oliver De León\n",
    "## - 18341 - Randy Venegas"
   ]
  },
  {
   "attachments": {},
   "cell_type": "markdown",
   "metadata": {},
   "source": [
    "## Fase 1: Propuesta de Proyecto\n",
    "\n",
    "La propuesta de proyecto aprobada se encuentra en el documento Avances Proyecto Security Data Science.pdf donde se define la motivación por la que se seleccionó este proyecto, las preguntas clave a considerar durante el desarrollo, la revisión de literatura actual sobre el tema  y la recolección de datos.\n",
    "\n",
    "Como resumen, el proyecto seleccionado fue desarrollar un sistema de detección de ataques DDoS, específicamente de llamadas a un servidor que sean parte de un ataque DDoS, esto con el propósito de que organizaciones y empresas puedan detectar y mitigar estos ataques enfocados a sus servidores, obteniendo una precisión y recall igual o mayor al que se ha demostrado en la literatura actual."
   ]
  },
  {
   "attachments": {},
   "cell_type": "markdown",
   "metadata": {},
   "source": [
    "## Fase 2: Implementación\n",
    "\n",
    "Esta fase la cual se desarrolla en este jupyter notebook, consiste en la implementación completa del modelo, pasando por la limpieza de datos y selección de features relevantes, pre-procesamiento y análisis exploratorio, implementación de los modelos y evaluación."
   ]
  },
  {
   "attachments": {},
   "cell_type": "markdown",
   "metadata": {},
   "source": [
    "### Pre-procesamiento\n",
    "\n",
    "Para el pre-procesamiento se cargarán los distintos datasets necesarios, se juntarán, se limpiarán y se seleccionarán las features relevantes para el modelo, el objetivo de ese pre-procesamiento no es dejar el dataset final sino tener un dataset manejable, sin features que de primeras sabemos que no son relevantes para ir haciendo la exploración luego."
   ]
  },
  {
   "attachments": {},
   "cell_type": "markdown",
   "metadata": {},
   "source": [
    "#### Carga de los datasets\n",
    "\n",
    "El dataset completo es DDoS Evaluation Dataset (CIC-DDoS2019) de la University of New Brunswick (UNB) y se encuentra disponible en https://www.unb.ca/cic/datasets/ddos-2019.html o la copia personal en https://drive.google.com/file/d/1U9ccgLqrv36eLZuV0-pgUsGshgqJ73ma/view?usp=sharing que contiene el zip CSV-01-12 (HASH b86b3553b1c5086222b27ea17a27e07a) y la copia en https://drive.google.com/file/d/1v88DSdQ-tmwICOQWZGXUpKIj9JJD3ji6/view?usp=sharing que contiene el zip CSV-03-11 (HASH f43510dfa38483cb5851063807997baa). Estos dataset contienen multiples archivos csv que corresponden los primeros (CSV-01-12) a 12 tipos de ataques DDoS incluyendo NTP, DNS, LDAP, MSSQL, NetBIOS, SNMP, SSDP, UDP, UDP-Lag, WebDDoS, SYN y TFTP durante el día de entrenamiento y los otros (CSV-03-11) a 7 tipos de ataques incluyendo PortScan, NetBIOS, LDAP, MSSQL, UDP, UDP-Lag y SYN durante el día de testeo."
   ]
  },
  {
   "cell_type": "code",
   "execution_count": 1,
   "metadata": {},
   "outputs": [
    {
     "name": "stderr",
     "output_type": "stream",
     "text": [
      "C:\\Users\\julio\\AppData\\Local\\Temp\\ipykernel_27860\\2757498617.py:4: DtypeWarning: Columns (85) have mixed types. Specify dtype option on import or set low_memory=False.\n",
      "  DrDoS_DNS = pd.read_csv('data/CSV-01-12/01-12/DrDoS_DNS.csv')\n",
      "C:\\Users\\julio\\AppData\\Local\\Temp\\ipykernel_27860\\2757498617.py:5: DtypeWarning: Columns (85) have mixed types. Specify dtype option on import or set low_memory=False.\n",
      "  DrDoS_LDAP = pd.read_csv('data/CSV-01-12/01-12/DrDoS_LDAP.csv')\n",
      "C:\\Users\\julio\\AppData\\Local\\Temp\\ipykernel_27860\\2757498617.py:6: DtypeWarning: Columns (85) have mixed types. Specify dtype option on import or set low_memory=False.\n",
      "  DrDoS_MSSQL = pd.read_csv('data/CSV-01-12/01-12/DrDoS_MSSQL.csv')\n",
      "C:\\Users\\julio\\AppData\\Local\\Temp\\ipykernel_27860\\2757498617.py:7: DtypeWarning: Columns (85) have mixed types. Specify dtype option on import or set low_memory=False.\n",
      "  DrDoS_NetBIOS = pd.read_csv('data/CSV-01-12/01-12/DrDoS_NetBIOS.csv')\n",
      "C:\\Users\\julio\\AppData\\Local\\Temp\\ipykernel_27860\\2757498617.py:8: DtypeWarning: Columns (85) have mixed types. Specify dtype option on import or set low_memory=False.\n",
      "  DrDoS_NTP = pd.read_csv('data/CSV-01-12/01-12/DrDoS_NTP.csv')\n",
      "C:\\Users\\julio\\AppData\\Local\\Temp\\ipykernel_27860\\2757498617.py:9: DtypeWarning: Columns (85) have mixed types. Specify dtype option on import or set low_memory=False.\n",
      "  DrDoS_SNMP = pd.read_csv('data/CSV-01-12/01-12/DrDoS_SNMP.csv')\n",
      "C:\\Users\\julio\\AppData\\Local\\Temp\\ipykernel_27860\\2757498617.py:10: DtypeWarning: Columns (85) have mixed types. Specify dtype option on import or set low_memory=False.\n",
      "  DrDoS_SSDP = pd.read_csv('data/CSV-01-12/01-12/DrDoS_SSDP.csv')\n",
      "C:\\Users\\julio\\AppData\\Local\\Temp\\ipykernel_27860\\2757498617.py:11: DtypeWarning: Columns (85) have mixed types. Specify dtype option on import or set low_memory=False.\n",
      "  DrDoS_UDP = pd.read_csv('data/CSV-01-12/01-12/DrDoS_UDP.csv')\n",
      "C:\\Users\\julio\\AppData\\Local\\Temp\\ipykernel_27860\\2757498617.py:12: DtypeWarning: Columns (85) have mixed types. Specify dtype option on import or set low_memory=False.\n",
      "  Syn = pd.read_csv('data/CSV-01-12/01-12/Syn.csv')\n"
     ]
    }
   ],
   "source": [
    "import pandas as pd\n",
    "\n",
    "# train day\n",
    "DrDoS_DNS = pd.read_csv('data/CSV-01-12/01-12/DrDoS_DNS.csv')\n",
    "DrDoS_LDAP = pd.read_csv('data/CSV-01-12/01-12/DrDoS_LDAP.csv')\n",
    "DrDoS_MSSQL = pd.read_csv('data/CSV-01-12/01-12/DrDoS_MSSQL.csv')\n",
    "DrDoS_NetBIOS = pd.read_csv('data/CSV-01-12/01-12/DrDoS_NetBIOS.csv')\n",
    "DrDoS_NTP = pd.read_csv('data/CSV-01-12/01-12/DrDoS_NTP.csv')\n",
    "DrDoS_SNMP = pd.read_csv('data/CSV-01-12/01-12/DrDoS_SNMP.csv')\n",
    "DrDoS_SSDP = pd.read_csv('data/CSV-01-12/01-12/DrDoS_SSDP.csv')\n",
    "DrDoS_UDP = pd.read_csv('data/CSV-01-12/01-12/DrDoS_UDP.csv')\n",
    "Syn = pd.read_csv('data/CSV-01-12/01-12/Syn.csv')\n",
    "TFTPdf = pd.read_csv('data/CSV-01-12/01-12/TFTP.csv')\n",
    "UDPLag = pd.read_csv('data/CSV-01-12/01-12/UDPLag.csv')\n",
    "\n",
    "# test day\n",
    "LDAPdf = pd.read_csv('data/CSV-01-12/01-12/LDAP.csv')\n",
    "MSSQLdf = pd.read_csv('data/CSV-01-12/01-12/MSSQL.csv')\n",
    "NetBIOS = pd.read_csv('data/CSV-01-12/01-12/NetBIOS.csv')\n",
    "Portmap = pd.read_csv('data/CSV-01-12/01-12/Portmap.csv')\n",
    "Syn_2 = pd.read_csv('data/CSV-01-12/01-12/Syn.csv')\n",
    "UDPdf = pd.read_csv('data/CSV-01-12/01-12/UDP.csv')\n",
    "UDPLag_2 = pd.read_csv('data/CSV-01-12/01-12/UDPLag.csv')"
   ]
  },
  {
   "attachments": {},
   "cell_type": "markdown",
   "metadata": {},
   "source": [
    "#### Vistazo a los datasets\n",
    "\n",
    "Se da un vistazo rápido a los datasets para ver la cantidad de datos que se tienen y la cantidad de features que se tienen."
   ]
  },
  {
   "cell_type": "code",
   "execution_count": null,
   "metadata": {},
   "outputs": [],
   "source": [
    "## check the data\n",
    "\n",
    "DrDoS_DNS.head()"
   ]
  },
  {
   "attachments": {},
   "cell_type": "markdown",
   "metadata": {},
   "source": [
    "#### Unión de los datasets\n",
    "\n",
    "Se unen los datasets de entrenamiento y testeo en un solo dataset para poder hacer el pre-procesamiento y la exploración de datos."
   ]
  }
 ],
 "metadata": {
  "kernelspec": {
   "display_name": "Python 3",
   "language": "python",
   "name": "python3"
  },
  "language_info": {
   "codemirror_mode": {
    "name": "ipython",
    "version": 3
   },
   "file_extension": ".py",
   "mimetype": "text/x-python",
   "name": "python",
   "nbconvert_exporter": "python",
   "pygments_lexer": "ipython3",
   "version": "3.8.0"
  },
  "orig_nbformat": 4,
  "vscode": {
   "interpreter": {
    "hash": "221a84ff5d925afb6f3119f56227a1083ee515fccbee5919516674b7e72e387e"
   }
  }
 },
 "nbformat": 4,
 "nbformat_minor": 2
}
