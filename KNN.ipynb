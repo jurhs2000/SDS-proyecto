{
 "cells": [
  {
   "cell_type": "code",
   "execution_count": 40,
   "metadata": {},
   "outputs": [],
   "source": [
    "# Imports\n",
    "from scapy.all import *\n",
    "import pandas as pd\n",
    "import numpy as np\n",
    "import matplotlib.pyplot as plt\n",
    "from sklearn.decomposition import PCA\n",
    "from sklearn.model_selection import train_test_split\n",
    "from sklearn.neighbors import KNeighborsClassifier\n",
    "from sklearn.model_selection import cross_val_score\n",
    "from sklearn.metrics import accuracy_score, confusion_matrix, classification_report"
   ]
  },
  {
   "cell_type": "code",
   "execution_count": 41,
   "metadata": {},
   "outputs": [],
   "source": [
    "# cargar el dataset preprocesado\n",
    "df = pd.read_csv('archivo_completo_limpio.csv', sep=',', encoding='utf-8')"
   ]
  },
  {
   "cell_type": "code",
   "execution_count": 42,
   "metadata": {},
   "outputs": [],
   "source": [
    "# separar el dataset en datos y etiquetas\n",
    "x = df.drop(['Label'], axis=1)\n",
    "y = df['Label']"
   ]
  },
  {
   "cell_type": "code",
   "execution_count": 43,
   "metadata": {},
   "outputs": [],
   "source": [
    "# dividir el dataset en entrenamiento y prueba\n",
    "x_train, x_test, y_train, y_test = train_test_split(x, y, test_size=0.2)"
   ]
  },
  {
   "cell_type": "code",
   "execution_count": 44,
   "metadata": {},
   "outputs": [
    {
     "data": {
      "image/png": "[encoded data removed]",
      "text/plain": [
       "<Figure size 432x288 with 1 Axes>"
      ]
     },
     "metadata": {
      "needs_background": "light"
     },
     "output_type": "display_data"
    }
   ],
   "source": [
    "# fit and graph the explained variance ratio\n",
    "pca = PCA().fit(x_train)\n",
    "plt.plot(np.cumsum(pca.explained_variance_ratio_))\n",
    "plt.title('Explained variance ratio')\n",
    "plt.xlabel('Número de componentes')\n",
    "plt.ylabel('Varianza explicada acumulada')\n",
    "plt.show()"
   ]
  },
  {
   "cell_type": "code",
   "execution_count": 45,
   "metadata": {},
   "outputs": [],
   "source": [
    "no_components = 10"
   ]
  },
  {
   "cell_type": "code",
   "execution_count": 46,
   "metadata": {},
   "outputs": [],
   "source": [
    "# aplicando PCA\n",
    "pca = PCA(n_components=no_components)\n",
    "x_train = pca.fit_transform(x_train)\n",
    "x_test = pca.transform(x_test)"
   ]
  },
  {
   "cell_type": "code",
   "execution_count": 47,
   "metadata": {},
   "outputs": [],
   "source": [
    "# convertir los datos a un dataframe\n",
    "x_train = pd.DataFrame(x_train)\n",
    "x_test = pd.DataFrame(x_test)"
   ]
  },
  {
   "cell_type": "code",
   "execution_count": 48,
   "metadata": {},
   "outputs": [
    {
     "name": "stdout",
     "output_type": "stream",
     "text": [
      "(5568, 10)\n",
      "(1392, 10)\n",
      "(5568,)\n",
      "(1392,)\n"
     ]
    }
   ],
   "source": [
    "# check shapes\n",
    "print(x_train.shape)\n",
    "print(x_test.shape)\n",
    "print(y_train.shape)\n",
    "print(y_test.shape)"
   ]
  },
  {
   "cell_type": "code",
   "execution_count": 49,
   "metadata": {},
   "outputs": [
    {
     "name": "stdout",
     "output_type": "stream",
     "text": [
      "El número óptimo de vecinos es 1\n"
     ]
    },
    {
     "data": {
      "image/png": "[encoded data removed]",
      "text/plain": [
       "<Figure size 432x288 with 1 Axes>"
      ]
     },
     "metadata": {
      "needs_background": "light"
     },
     "output_type": "display_data"
    }
   ],
   "source": [
    "# creando lista de numero de vecinos a probar, de 1 a 50, de 1 en 1\n",
    "neighbors = list(range(1, 50, 1))\n",
    "\n",
    "# lista vacia que contenda los valores de accuracy para cada k en neighbors\n",
    "cv_scores = []\n",
    "\n",
    "# iteracion sobre todos los valores de neighbors para encontrar el mejor valor de k\n",
    "for k in neighbors:\n",
    "    knn = KNeighborsClassifier(n_neighbors=k, n_jobs=-1)\n",
    "    scores = cross_val_score(knn, x_train, y_train, cv=10, scoring='accuracy')\n",
    "    cv_scores.append(scores.mean())\n",
    "\n",
    "# calculando el error medio cuadratico\n",
    "MSE = [1 - x for x in cv_scores]\n",
    "\n",
    "# asignando el mejor valor de k (con el menor error medio cuadratico)\n",
    "optimal_k = neighbors[MSE.index(min(MSE))]\n",
    "print(\"El número óptimo de vecinos es %d\" % optimal_k)\n",
    "\n",
    "# graficando el error medio cuadratico para cada k\n",
    "plt.plot(neighbors, MSE)\n",
    "plt.xlabel('Número de vecinos K')\n",
    "plt.ylabel('Error de clasificación')\n",
    "plt.show()"
   ]
  },
  {
   "cell_type": "code",
   "execution_count": 50,
   "metadata": {},
   "outputs": [],
   "source": [
    "# Creando modelo KNN\n",
    "KNN_classifier = KNeighborsClassifier(n_neighbors=optimal_k, n_jobs=-1)"
   ]
  },
  {
   "cell_type": "code",
   "execution_count": 51,
   "metadata": {},
   "outputs": [
    {
     "data": {
      "text/plain": [
       "KNeighborsClassifier(n_jobs=-1, n_neighbors=1)"
      ]
     },
     "execution_count": 51,
     "metadata": {},
     "output_type": "execute_result"
    }
   ],
   "source": [
    "# entrenando el modelo\n",
    "KNN_classifier.fit(x_train, y_train)"
   ]
  },
  {
   "cell_type": "code",
   "execution_count": 52,
   "metadata": {},
   "outputs": [],
   "source": [
    "# prediciendo el modelo\n",
    "y_pred = KNN_classifier.predict(x_test)"
   ]
  },
  {
   "cell_type": "code",
   "execution_count": 53,
   "metadata": {},
   "outputs": [
    {
     "name": "stdout",
     "output_type": "stream",
     "text": [
      "Precisión del modelo KNN:  0.9655172413793104\n",
      "Matriz de confusión: \n",
      " [[342   2   4   6]\n",
      " [  2 336   0   8]\n",
      " [  4   2 346   5]\n",
      " [  6   6   3 320]]\n",
      "Reporte de clasificación: \n",
      "               precision    recall  f1-score   support\n",
      "\n",
      "           0       0.97      0.97      0.97       354\n",
      "           1       0.97      0.97      0.97       346\n",
      "           2       0.98      0.97      0.97       357\n",
      "           3       0.94      0.96      0.95       335\n",
      "\n",
      "    accuracy                           0.97      1392\n",
      "   macro avg       0.97      0.97      0.97      1392\n",
      "weighted avg       0.97      0.97      0.97      1392\n",
      "\n",
      "Exactitud del modelo:  0.9655172413793104\n"
     ]
    }
   ],
   "source": [
    "# evaluando el modelo\n",
    "print(\"Precisión del modelo KNN: \", KNN_classifier.score(x_test, y_test))\n",
    "print(\"Matriz de confusión: \\n\", confusion_matrix(y_test, y_pred))\n",
    "print(\"Reporte de clasificación: \\n\", classification_report(y_test, y_pred))"
   ]
  }
 ],
 "metadata": {
  "kernelspec": {
   "display_name": "Python 3",
   "language": "python",
   "name": "python3"
  },
  "language_info": {
   "codemirror_mode": {
    "name": "ipython",
    "version": 3
   },
   "file_extension": ".py",
   "mimetype": "text/x-python",
   "name": "python",
   "nbconvert_exporter": "python",
   "pygments_lexer": "ipython3",
   "version": "3.8.0"
  },
  "orig_nbformat": 4
 },
 "nbformat": 4,
 "nbformat_minor": 2
}
